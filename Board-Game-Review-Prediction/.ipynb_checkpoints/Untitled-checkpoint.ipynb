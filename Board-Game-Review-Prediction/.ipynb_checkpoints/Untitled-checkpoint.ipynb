{
 "cells": [
  {
   "cell_type": "code",
   "execution_count": 2,
   "metadata": {},
   "outputs": [],
   "source": [
    "import seaborn as sns\n",
    "import sys\n",
    "import pandas as pd\n",
    "import numpy as np\n",
    "import matplotlib.pyplot as plt\n",
    "from sklearn.model_selection import train_test_split"
   ]
  },
  {
   "cell_type": "code",
   "execution_count": 4,
   "metadata": {},
   "outputs": [],
   "source": [
    "#loading the dataset\n",
    "games=pd.read_csv(\"bgg_db_1806.csv\")"
   ]
  },
  {
   "cell_type": "code",
   "execution_count": 5,
   "metadata": {},
   "outputs": [
    {
     "name": "stdout",
     "output_type": "stream",
     "text": [
      "Index(['rank', 'bgg_url', 'game_id', 'names', 'min_players', 'max_players',\n",
      "       'avg_time', 'min_time', 'max_time', 'year', 'avg_rating', 'geek_rating',\n",
      "       'num_votes', 'image_url', 'age', 'mechanic', 'owned', 'category',\n",
      "       'designer', 'weight'],\n",
      "      dtype='object')\n",
      "(4999, 20)\n"
     ]
    }
   ],
   "source": [
    "print(games.columns)\n",
    "\n",
    "print(games.shape)"
   ]
  },
  {
   "cell_type": "code",
   "execution_count": 8,
   "metadata": {},
   "outputs": [
    {
     "name": "stdout",
     "output_type": "stream",
     "text": [
      "      rank                                            bgg_url  game_id  \\\n",
      "0        1  https://boardgamegeek.com/boardgame/174430/glo...   174430   \n",
      "1        2  https://boardgamegeek.com/boardgame/161936/pan...   161936   \n",
      "2        3  https://boardgamegeek.com/boardgame/182028/thr...   182028   \n",
      "3        4  https://boardgamegeek.com/boardgame/167791/ter...   167791   \n",
      "4        5  https://boardgamegeek.com/boardgame/12333/twil...    12333   \n",
      "...    ...                                                ...      ...   \n",
      "4994  4995  https://boardgamegeek.com/boardgame/6569/cronberg     6569   \n",
      "4995  4996  https://boardgamegeek.com/boardgame/42713/arca...    42713   \n",
      "4996  4997  https://boardgamegeek.com/boardgame/836/new-en...      836   \n",
      "4997  4998  https://boardgamegeek.com/boardgame/2997/soldi...     2997   \n",
      "4998  4999  https://boardgamegeek.com/boardgame/128174/dra...   128174   \n",
      "\n",
      "                                              names  min_players  max_players  \\\n",
      "0                                        Gloomhaven            1            4   \n",
      "1                         Pandemic Legacy: Season 1            2            4   \n",
      "2     Through the Ages: A New Story of Civilization            2            4   \n",
      "3                                 Terraforming Mars            1            5   \n",
      "4                                 Twilight Struggle            2            2   \n",
      "...                                             ...          ...          ...   \n",
      "4994                                       Cronberg            2            4   \n",
      "4995                                 Arcane Legions            2            6   \n",
      "4996                           New England Railways            3            6   \n",
      "4997                                  Soldier Kings            2            8   \n",
      "4998                                  Dragon Farkle            2            5   \n",
      "\n",
      "      avg_time  min_time  max_time  year  avg_rating  geek_rating  num_votes  \\\n",
      "0          120        60       120  2017     8.98893      8.61858      15376   \n",
      "1           60        60        60  2015     8.66140      8.50163      26063   \n",
      "2          240       180       240  2015     8.60673      8.30183      12352   \n",
      "3          120       120       120  2016     8.38461      8.19914      26004   \n",
      "4          180       120       180  2005     8.33954      8.19787      31301   \n",
      "...        ...       ...       ...   ...         ...          ...        ...   \n",
      "4994        20        20        20  2003     5.99954      5.64032        456   \n",
      "4995       120        60       120  2009     6.39838      5.64030        277   \n",
      "4996       120       120       120  2000     6.71815      5.64026        146   \n",
      "4997       240       240       240  2002     6.36062      5.64024        257   \n",
      "4998        30        30        30  2015     6.29081      5.64024        283   \n",
      "\n",
      "                                              image_url  age  \\\n",
      "0     https://cf.geekdo-images.com/original/img/lDN3...   12   \n",
      "1     https://cf.geekdo-images.com/original/img/P_Sw...   13   \n",
      "2     https://cf.geekdo-images.com/original/img/1d2h...   14   \n",
      "3     https://cf.geekdo-images.com/original/img/o8z_...   12   \n",
      "4     https://cf.geekdo-images.com/original/img/ZPnn...   13   \n",
      "...                                                 ...  ...   \n",
      "4994  https://cf.geekdo-images.com/original/img/pBmQ...    8   \n",
      "4995  https://cf.geekdo-images.com/original/img/Ea2O...   10   \n",
      "4996  https://cf.geekdo-images.com/original/img/2EXT...   13   \n",
      "4997  https://cf.geekdo-images.com/original/img/eNqF...   14   \n",
      "4998  https://cf.geekdo-images.com/original/img/7iS6...   13   \n",
      "\n",
      "                                               mechanic  owned  \\\n",
      "0     Action / Movement Programming, Co-operative Pl...  25928   \n",
      "1     Action Point Allowance System, Co-operative Pl...  41605   \n",
      "2     Action Point Allowance System, Auction/Bidding...  15848   \n",
      "3     Card Drafting, Hand Management, Set Collection...  33340   \n",
      "4     Area Control / Area Influence, Campaign / Batt...  42952   \n",
      "...                                                 ...    ...   \n",
      "4994                     Area Enclosure, Tile Placement    561   \n",
      "4995  Action Point Allowance System, Dice Rolling, V...    825   \n",
      "4996               Auction/Bidding, Pick-up and Deliver    440   \n",
      "4997    Point to Point Movement, Variable Player Powers    659   \n",
      "4998                        Card Drafting, Dice Rolling    629   \n",
      "\n",
      "                                               category  \\\n",
      "0     Adventure, Exploration, Fantasy, Fighting, Min...   \n",
      "1                                Environmental, Medical   \n",
      "2                     Card Game, Civilization, Economic   \n",
      "3     Economic, Environmental, Industry / Manufactur...   \n",
      "4                    Modern Warfare, Political, Wargame   \n",
      "...                                                 ...   \n",
      "4994                        City Building, Print & Play   \n",
      "4995  Ancient, Collectible Components, Dice, Fantasy...   \n",
      "4996                                   Economic, Trains   \n",
      "4997                             Age of Reason, Wargame   \n",
      "4998                                            Fantasy   \n",
      "\n",
      "                                               designer  weight  \n",
      "0                                        Isaac Childres  3.7543  \n",
      "1                              Rob Daviau, Matt Leacock  2.8210  \n",
      "2                                        Vlaada Chvátil  4.3678  \n",
      "3                                       Jacob Fryxelius  3.2456  \n",
      "4                          Ananda Gupta, Jason Matthews  3.5518  \n",
      "...                                                 ...     ...  \n",
      "4994                       Tobias Goslar, Roland Goslar  1.9074  \n",
      "4995  Tyler Bielman, Jonathon Loucks, Ethan Pasterna...  2.3750  \n",
      "4996                        John Bohrer, Martin Wallace  2.6250  \n",
      "4997                                  Robert G. Markham  2.4359  \n",
      "4998                                  Robert J. Hudecek  1.6000  \n",
      "\n",
      "[4999 rows x 20 columns]\n"
     ]
    }
   ],
   "source": [
    "print(games)"
   ]
  },
  {
   "cell_type": "code",
   "execution_count": 7,
   "metadata": {},
   "outputs": [
    {
     "data": {
      "image/png": "[encoded data removed]",
      "text/plain": [
       "<Figure size 432x288 with 1 Axes>"
      ]
     },
     "metadata": {
      "needs_background": "light"
     },
     "output_type": "display_data"
    }
   ],
   "source": [
    "\n",
    "plt.hist(games['avg_rating'])\n",
    "plt.show()\n"
   ]
  },
  {
   "cell_type": "code",
   "execution_count": 9,
   "metadata": {},
   "outputs": [
    {
     "data": {
      "image/png": "[encoded data removed]",
      "text/plain": [
       "<Figure size 864x648 with 2 Axes>"
      ]
     },
     "metadata": {
      "needs_background": "light"
     },
     "output_type": "display_data"
    }
   ],
   "source": [
    "corrmat=games.corr()\n",
    "fig=plt.figure(figsize=(12,9))\n",
    "sns.heatmap(corrmat,vmax=0.8,square=True)\n",
    "plt.show()"
   ]
  },
  {
   "cell_type": "code",
   "execution_count": 11,
   "metadata": {},
   "outputs": [],
   "source": [
    "#data preprocessing\n",
    "\n",
    "columns=games.columns.tolist()\n",
    "columns=[c for c in columns if c not in ['avg_rating','bgg_url','game_id','names','image_url','mechanic','category','designer']]\n",
    "\n",
    "target='avg_rating'\n"
   ]
  },
  {
   "cell_type": "code",
   "execution_count": 15,
   "metadata": {},
   "outputs": [
    {
     "name": "stdout",
     "output_type": "stream",
     "text": [
      "      rank  min_players  max_players  avg_time  min_time  max_time  year  \\\n",
      "0        1            1            4       120        60       120  2017   \n",
      "1        2            2            4        60        60        60  2015   \n",
      "2        3            2            4       240       180       240  2015   \n",
      "3        4            1            5       120       120       120  2016   \n",
      "4        5            2            2       180       120       180  2005   \n",
      "...    ...          ...          ...       ...       ...       ...   ...   \n",
      "4994  4995            2            4        20        20        20  2003   \n",
      "4995  4996            2            6       120        60       120  2009   \n",
      "4996  4997            3            6       120       120       120  2000   \n",
      "4997  4998            2            8       240       240       240  2002   \n",
      "4998  4999            2            5        30        30        30  2015   \n",
      "\n",
      "      geek_rating  num_votes  age  owned  weight  \n",
      "0         8.61858      15376   12  25928  3.7543  \n",
      "1         8.50163      26063   13  41605  2.8210  \n",
      "2         8.30183      12352   14  15848  4.3678  \n",
      "3         8.19914      26004   12  33340  3.2456  \n",
      "4         8.19787      31301   13  42952  3.5518  \n",
      "...           ...        ...  ...    ...     ...  \n",
      "4994      5.64032        456    8    561  1.9074  \n",
      "4995      5.64030        277   10    825  2.3750  \n",
      "4996      5.64026        146   13    440  2.6250  \n",
      "4997      5.64024        257   14    659  2.4359  \n",
      "4998      5.64024        283   13    629  1.6000  \n",
      "\n",
      "[4999 rows x 12 columns]\n"
     ]
    }
   ],
   "source": [
    "\n",
    "\n"
   ]
  },
  {
   "cell_type": "code",
   "execution_count": 17,
   "metadata": {},
   "outputs": [
    {
     "name": "stdout",
     "output_type": "stream",
     "text": [
      "(3999, 12)\n",
      "(1000, 12)\n"
     ]
    }
   ],
   "source": [
    "#split dataset\n",
    "x_train,x_test,y_train,y_test=train_test_split(games[columns],games[target],test_size=0.2,random_state=42)\n",
    "print(x_train.shape)\n",
    "print(x_test.shape)"
   ]
  },
  {
   "cell_type": "code",
   "execution_count": 18,
   "metadata": {},
   "outputs": [],
   "source": [
    "from sklearn.linear_model import LinearRegression\n",
    "from sklearn.metrics import mean_squared_error"
   ]
  },
  {
   "cell_type": "code",
   "execution_count": 19,
   "metadata": {},
   "outputs": [
    {
     "data": {
      "text/plain": [
       "LinearRegression(copy_X=True, fit_intercept=True, n_jobs=None, normalize=False)"
      ]
     },
     "execution_count": 19,
     "metadata": {},
     "output_type": "execute_result"
    }
   ],
   "source": [
    "model=LinearRegression()\n",
    "model.fit(x_train,y_train)"
   ]
  },
  {
   "cell_type": "code",
   "execution_count": 21,
   "metadata": {},
   "outputs": [
    {
     "data": {
      "text/plain": [
       "0.1727380124024342"
      ]
     },
     "execution_count": 21,
     "metadata": {},
     "output_type": "execute_result"
    }
   ],
   "source": [
    "predictions=model.predict(x_test)\n",
    "mean_squared_error(predictions,y_test)"
   ]
  },
  {
   "cell_type": "code",
   "execution_count": 27,
   "metadata": {},
   "outputs": [
    {
     "ename": "TypeError",
     "evalue": "__init__() got an unexpected keyword argument 'min_sample_leaf'",
     "output_type": "error",
     "traceback": [
      "\u001b[1;31m---------------------------------------------------------------------------\u001b[0m",
      "\u001b[1;31mTypeError\u001b[0m                                 Traceback (most recent call last)",
      "\u001b[1;32m<ipython-input-27-fa16fef988e1>\u001b[0m in \u001b[0;36m<module>\u001b[1;34m\u001b[0m\n\u001b[0;32m      1\u001b[0m \u001b[1;32mfrom\u001b[0m \u001b[0msklearn\u001b[0m\u001b[1;33m.\u001b[0m\u001b[0mensemble\u001b[0m \u001b[1;32mimport\u001b[0m \u001b[0mRandomForestRegressor\u001b[0m\u001b[1;33m\u001b[0m\u001b[1;33m\u001b[0m\u001b[0m\n\u001b[0;32m      2\u001b[0m \u001b[1;33m\u001b[0m\u001b[0m\n\u001b[1;32m----> 3\u001b[1;33m \u001b[0mmodel\u001b[0m\u001b[1;33m=\u001b[0m\u001b[0mRandomForestRegressor\u001b[0m\u001b[1;33m(\u001b[0m\u001b[0mn_estimators\u001b[0m\u001b[1;33m=\u001b[0m\u001b[1;36m100\u001b[0m\u001b[1;33m,\u001b[0m\u001b[0mmin_sample_leaf\u001b[0m\u001b[1;33m=\u001b[0m\u001b[1;36m10\u001b[0m\u001b[1;33m,\u001b[0m\u001b[0mrandom_state\u001b[0m\u001b[1;33m=\u001b[0m\u001b[1;36m5\u001b[0m\u001b[1;33m)\u001b[0m\u001b[1;33m\u001b[0m\u001b[1;33m\u001b[0m\u001b[0m\n\u001b[0m\u001b[0;32m      4\u001b[0m \u001b[1;33m\u001b[0m\u001b[0m\n\u001b[0;32m      5\u001b[0m \u001b[0mmodel\u001b[0m\u001b[1;33m.\u001b[0m\u001b[0mfit\u001b[0m\u001b[1;33m(\u001b[0m\u001b[0mx_train\u001b[0m\u001b[1;33m,\u001b[0m\u001b[0my_train\u001b[0m\u001b[1;33m)\u001b[0m\u001b[1;33m\u001b[0m\u001b[1;33m\u001b[0m\u001b[0m\n",
      "\u001b[1;31mTypeError\u001b[0m: __init__() got an unexpected keyword argument 'min_sample_leaf'"
     ]
    }
   ],
   "source": [
    "from sklearn.ensemble import RandomForestRegressor\n",
    "\n",
    "model=RandomForestRegressor(n_estimators=100,min_sample_leaf=10,random_state=5)\n",
    "\n",
    "model.fit(x_train,y_train)"
   ]
  },
  {
   "cell_type": "code",
   "execution_count": null,
   "metadata": {},
   "outputs": [],
   "source": []
  }
 ],
 "metadata": {
  "kernelspec": {
   "display_name": "Python 3",
   "language": "python",
   "name": "python3"
  },
  "language_info": {
   "codemirror_mode": {
    "name": "ipython",
    "version": 3
   },
   "file_extension": ".py",
   "mimetype": "text/x-python",
   "name": "python",
   "nbconvert_exporter": "python",
   "pygments_lexer": "ipython3",
   "version": "3.7.6"
  }
 },
 "nbformat": 4,
 "nbformat_minor": 4
}
